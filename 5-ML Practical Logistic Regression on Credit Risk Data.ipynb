{
 "cells": [
  {
   "cell_type": "code",
   "execution_count": 1,
   "id": "bd386671",
   "metadata": {},
   "outputs": [],
   "source": [
    "import numpy as np\n",
    "import pandas as pd"
   ]
  },
  {
   "cell_type": "code",
   "execution_count": 2,
   "id": "7f72abcd",
   "metadata": {},
   "outputs": [],
   "source": [
    "cr = pd.read_csv('CreditRisk.csv')"
   ]
  },
  {
   "cell_type": "code",
   "execution_count": 3,
   "id": "0cbf177c",
   "metadata": {},
   "outputs": [
    {
     "data": {
      "text/html": [
       "<div>\n",
       "<style scoped>\n",
       "    .dataframe tbody tr th:only-of-type {\n",
       "        vertical-align: middle;\n",
       "    }\n",
       "\n",
       "    .dataframe tbody tr th {\n",
       "        vertical-align: top;\n",
       "    }\n",
       "\n",
       "    .dataframe thead th {\n",
       "        text-align: right;\n",
       "    }\n",
       "</style>\n",
       "<table border=\"1\" class=\"dataframe\">\n",
       "  <thead>\n",
       "    <tr style=\"text-align: right;\">\n",
       "      <th></th>\n",
       "      <th>Loan_ID</th>\n",
       "      <th>Gender</th>\n",
       "      <th>Married</th>\n",
       "      <th>Dependents</th>\n",
       "      <th>Education</th>\n",
       "      <th>Self_Employed</th>\n",
       "      <th>ApplicantIncome</th>\n",
       "      <th>CoapplicantIncome</th>\n",
       "      <th>LoanAmount</th>\n",
       "      <th>Loan_Amount_Term</th>\n",
       "      <th>Credit_History</th>\n",
       "      <th>Property_Area</th>\n",
       "      <th>Loan_Status</th>\n",
       "    </tr>\n",
       "  </thead>\n",
       "  <tbody>\n",
       "    <tr>\n",
       "      <th>0</th>\n",
       "      <td>LP001002</td>\n",
       "      <td>Male</td>\n",
       "      <td>No</td>\n",
       "      <td>0.0</td>\n",
       "      <td>Graduate</td>\n",
       "      <td>No</td>\n",
       "      <td>5849</td>\n",
       "      <td>0.0</td>\n",
       "      <td>NaN</td>\n",
       "      <td>360.0</td>\n",
       "      <td>1.0</td>\n",
       "      <td>Urban</td>\n",
       "      <td>Y</td>\n",
       "    </tr>\n",
       "    <tr>\n",
       "      <th>1</th>\n",
       "      <td>LP001003</td>\n",
       "      <td>Male</td>\n",
       "      <td>Yes</td>\n",
       "      <td>1.0</td>\n",
       "      <td>Graduate</td>\n",
       "      <td>No</td>\n",
       "      <td>4583</td>\n",
       "      <td>1508.0</td>\n",
       "      <td>128.0</td>\n",
       "      <td>360.0</td>\n",
       "      <td>1.0</td>\n",
       "      <td>Rural</td>\n",
       "      <td>N</td>\n",
       "    </tr>\n",
       "    <tr>\n",
       "      <th>2</th>\n",
       "      <td>LP001005</td>\n",
       "      <td>Male</td>\n",
       "      <td>Yes</td>\n",
       "      <td>0.0</td>\n",
       "      <td>Graduate</td>\n",
       "      <td>Yes</td>\n",
       "      <td>3000</td>\n",
       "      <td>0.0</td>\n",
       "      <td>66.0</td>\n",
       "      <td>360.0</td>\n",
       "      <td>1.0</td>\n",
       "      <td>Urban</td>\n",
       "      <td>Y</td>\n",
       "    </tr>\n",
       "    <tr>\n",
       "      <th>3</th>\n",
       "      <td>LP001006</td>\n",
       "      <td>Male</td>\n",
       "      <td>Yes</td>\n",
       "      <td>0.0</td>\n",
       "      <td>Not Graduate</td>\n",
       "      <td>No</td>\n",
       "      <td>2583</td>\n",
       "      <td>2358.0</td>\n",
       "      <td>120.0</td>\n",
       "      <td>360.0</td>\n",
       "      <td>1.0</td>\n",
       "      <td>Urban</td>\n",
       "      <td>Y</td>\n",
       "    </tr>\n",
       "    <tr>\n",
       "      <th>4</th>\n",
       "      <td>LP001008</td>\n",
       "      <td>Male</td>\n",
       "      <td>No</td>\n",
       "      <td>0.0</td>\n",
       "      <td>Graduate</td>\n",
       "      <td>No</td>\n",
       "      <td>6000</td>\n",
       "      <td>0.0</td>\n",
       "      <td>141.0</td>\n",
       "      <td>360.0</td>\n",
       "      <td>1.0</td>\n",
       "      <td>Urban</td>\n",
       "      <td>Y</td>\n",
       "    </tr>\n",
       "  </tbody>\n",
       "</table>\n",
       "</div>"
      ],
      "text/plain": [
       "    Loan_ID Gender Married  Dependents     Education Self_Employed  \\\n",
       "0  LP001002   Male      No         0.0      Graduate            No   \n",
       "1  LP001003   Male     Yes         1.0      Graduate            No   \n",
       "2  LP001005   Male     Yes         0.0      Graduate           Yes   \n",
       "3  LP001006   Male     Yes         0.0  Not Graduate            No   \n",
       "4  LP001008   Male      No         0.0      Graduate            No   \n",
       "\n",
       "   ApplicantIncome  CoapplicantIncome  LoanAmount  Loan_Amount_Term  \\\n",
       "0             5849                0.0         NaN             360.0   \n",
       "1             4583             1508.0       128.0             360.0   \n",
       "2             3000                0.0        66.0             360.0   \n",
       "3             2583             2358.0       120.0             360.0   \n",
       "4             6000                0.0       141.0             360.0   \n",
       "\n",
       "   Credit_History Property_Area Loan_Status  \n",
       "0             1.0         Urban           Y  \n",
       "1             1.0         Rural           N  \n",
       "2             1.0         Urban           Y  \n",
       "3             1.0         Urban           Y  \n",
       "4             1.0         Urban           Y  "
      ]
     },
     "execution_count": 3,
     "metadata": {},
     "output_type": "execute_result"
    }
   ],
   "source": [
    "cr.head()"
   ]
  },
  {
   "cell_type": "code",
   "execution_count": 4,
   "id": "fc625f8d",
   "metadata": {},
   "outputs": [
    {
     "data": {
      "text/plain": [
       "(981, 13)"
      ]
     },
     "execution_count": 4,
     "metadata": {},
     "output_type": "execute_result"
    }
   ],
   "source": [
    "cr.shape"
   ]
  },
  {
   "cell_type": "code",
   "execution_count": 5,
   "id": "cd2596a5",
   "metadata": {},
   "outputs": [
    {
     "name": "stdout",
     "output_type": "stream",
     "text": [
      "<class 'pandas.core.frame.DataFrame'>\n",
      "RangeIndex: 981 entries, 0 to 980\n",
      "Data columns (total 13 columns):\n",
      " #   Column             Non-Null Count  Dtype  \n",
      "---  ------             --------------  -----  \n",
      " 0   Loan_ID            981 non-null    object \n",
      " 1   Gender             957 non-null    object \n",
      " 2   Married            978 non-null    object \n",
      " 3   Dependents         956 non-null    float64\n",
      " 4   Education          981 non-null    object \n",
      " 5   Self_Employed      926 non-null    object \n",
      " 6   ApplicantIncome    981 non-null    int64  \n",
      " 7   CoapplicantIncome  981 non-null    float64\n",
      " 8   LoanAmount         954 non-null    float64\n",
      " 9   Loan_Amount_Term   961 non-null    float64\n",
      " 10  Credit_History     902 non-null    float64\n",
      " 11  Property_Area      981 non-null    object \n",
      " 12  Loan_Status        981 non-null    object \n",
      "dtypes: float64(5), int64(1), object(7)\n",
      "memory usage: 99.8+ KB\n"
     ]
    }
   ],
   "source": [
    "cr.info()"
   ]
  },
  {
   "cell_type": "code",
   "execution_count": 6,
   "id": "e3160c29",
   "metadata": {},
   "outputs": [],
   "source": [
    "cr = cr.drop(['Loan_ID'],axis=1)"
   ]
  },
  {
   "cell_type": "code",
   "execution_count": 7,
   "id": "9f0db3bc",
   "metadata": {},
   "outputs": [
    {
     "data": {
      "text/html": [
       "<div>\n",
       "<style scoped>\n",
       "    .dataframe tbody tr th:only-of-type {\n",
       "        vertical-align: middle;\n",
       "    }\n",
       "\n",
       "    .dataframe tbody tr th {\n",
       "        vertical-align: top;\n",
       "    }\n",
       "\n",
       "    .dataframe thead th {\n",
       "        text-align: right;\n",
       "    }\n",
       "</style>\n",
       "<table border=\"1\" class=\"dataframe\">\n",
       "  <thead>\n",
       "    <tr style=\"text-align: right;\">\n",
       "      <th></th>\n",
       "      <th>Gender</th>\n",
       "      <th>Married</th>\n",
       "      <th>Dependents</th>\n",
       "      <th>Education</th>\n",
       "      <th>Self_Employed</th>\n",
       "      <th>ApplicantIncome</th>\n",
       "      <th>CoapplicantIncome</th>\n",
       "      <th>LoanAmount</th>\n",
       "      <th>Loan_Amount_Term</th>\n",
       "      <th>Credit_History</th>\n",
       "      <th>Property_Area</th>\n",
       "      <th>Loan_Status</th>\n",
       "    </tr>\n",
       "  </thead>\n",
       "  <tbody>\n",
       "    <tr>\n",
       "      <th>0</th>\n",
       "      <td>Male</td>\n",
       "      <td>No</td>\n",
       "      <td>0.0</td>\n",
       "      <td>Graduate</td>\n",
       "      <td>No</td>\n",
       "      <td>5849</td>\n",
       "      <td>0.0</td>\n",
       "      <td>NaN</td>\n",
       "      <td>360.0</td>\n",
       "      <td>1.0</td>\n",
       "      <td>Urban</td>\n",
       "      <td>Y</td>\n",
       "    </tr>\n",
       "    <tr>\n",
       "      <th>1</th>\n",
       "      <td>Male</td>\n",
       "      <td>Yes</td>\n",
       "      <td>1.0</td>\n",
       "      <td>Graduate</td>\n",
       "      <td>No</td>\n",
       "      <td>4583</td>\n",
       "      <td>1508.0</td>\n",
       "      <td>128.0</td>\n",
       "      <td>360.0</td>\n",
       "      <td>1.0</td>\n",
       "      <td>Rural</td>\n",
       "      <td>N</td>\n",
       "    </tr>\n",
       "    <tr>\n",
       "      <th>2</th>\n",
       "      <td>Male</td>\n",
       "      <td>Yes</td>\n",
       "      <td>0.0</td>\n",
       "      <td>Graduate</td>\n",
       "      <td>Yes</td>\n",
       "      <td>3000</td>\n",
       "      <td>0.0</td>\n",
       "      <td>66.0</td>\n",
       "      <td>360.0</td>\n",
       "      <td>1.0</td>\n",
       "      <td>Urban</td>\n",
       "      <td>Y</td>\n",
       "    </tr>\n",
       "    <tr>\n",
       "      <th>3</th>\n",
       "      <td>Male</td>\n",
       "      <td>Yes</td>\n",
       "      <td>0.0</td>\n",
       "      <td>Not Graduate</td>\n",
       "      <td>No</td>\n",
       "      <td>2583</td>\n",
       "      <td>2358.0</td>\n",
       "      <td>120.0</td>\n",
       "      <td>360.0</td>\n",
       "      <td>1.0</td>\n",
       "      <td>Urban</td>\n",
       "      <td>Y</td>\n",
       "    </tr>\n",
       "    <tr>\n",
       "      <th>4</th>\n",
       "      <td>Male</td>\n",
       "      <td>No</td>\n",
       "      <td>0.0</td>\n",
       "      <td>Graduate</td>\n",
       "      <td>No</td>\n",
       "      <td>6000</td>\n",
       "      <td>0.0</td>\n",
       "      <td>141.0</td>\n",
       "      <td>360.0</td>\n",
       "      <td>1.0</td>\n",
       "      <td>Urban</td>\n",
       "      <td>Y</td>\n",
       "    </tr>\n",
       "  </tbody>\n",
       "</table>\n",
       "</div>"
      ],
      "text/plain": [
       "  Gender Married  Dependents     Education Self_Employed  ApplicantIncome  \\\n",
       "0   Male      No         0.0      Graduate            No             5849   \n",
       "1   Male     Yes         1.0      Graduate            No             4583   \n",
       "2   Male     Yes         0.0      Graduate           Yes             3000   \n",
       "3   Male     Yes         0.0  Not Graduate            No             2583   \n",
       "4   Male      No         0.0      Graduate            No             6000   \n",
       "\n",
       "   CoapplicantIncome  LoanAmount  Loan_Amount_Term  Credit_History  \\\n",
       "0                0.0         NaN             360.0             1.0   \n",
       "1             1508.0       128.0             360.0             1.0   \n",
       "2                0.0        66.0             360.0             1.0   \n",
       "3             2358.0       120.0             360.0             1.0   \n",
       "4                0.0       141.0             360.0             1.0   \n",
       "\n",
       "  Property_Area Loan_Status  \n",
       "0         Urban           Y  \n",
       "1         Rural           N  \n",
       "2         Urban           Y  \n",
       "3         Urban           Y  \n",
       "4         Urban           Y  "
      ]
     },
     "execution_count": 7,
     "metadata": {},
     "output_type": "execute_result"
    }
   ],
   "source": [
    "cr.head()"
   ]
  },
  {
   "cell_type": "code",
   "execution_count": 8,
   "id": "ee1c0027",
   "metadata": {},
   "outputs": [
    {
     "data": {
      "text/plain": [
       "Gender              24\n",
       "Married              3\n",
       "Dependents          25\n",
       "Self_Employed       55\n",
       "LoanAmount          27\n",
       "Loan_Amount_Term    20\n",
       "Credit_History      79\n",
       "dtype: int64"
      ]
     },
     "execution_count": 8,
     "metadata": {},
     "output_type": "execute_result"
    }
   ],
   "source": [
    "cr.isnull().sum()[cr.isnull().sum() > 0]"
   ]
  },
  {
   "cell_type": "code",
   "execution_count": 9,
   "id": "21a9a13a",
   "metadata": {},
   "outputs": [
    {
     "data": {
      "text/plain": [
       "Gender\n",
       "Male      775\n",
       "Female    182\n",
       "Name: count, dtype: int64"
      ]
     },
     "execution_count": 9,
     "metadata": {},
     "output_type": "execute_result"
    }
   ],
   "source": [
    "cr.Gender.value_counts()"
   ]
  },
  {
   "cell_type": "code",
   "execution_count": 10,
   "id": "88e55dfa",
   "metadata": {},
   "outputs": [],
   "source": [
    "cr.Gender = cr.Gender.fillna('Male')"
   ]
  },
  {
   "cell_type": "code",
   "execution_count": 11,
   "id": "c3e5590e",
   "metadata": {},
   "outputs": [
    {
     "data": {
      "text/plain": [
       "Married\n",
       "Yes    631\n",
       "No     347\n",
       "Name: count, dtype: int64"
      ]
     },
     "execution_count": 11,
     "metadata": {},
     "output_type": "execute_result"
    }
   ],
   "source": [
    "cr.Married.value_counts()"
   ]
  },
  {
   "cell_type": "code",
   "execution_count": 12,
   "id": "1833f7f0",
   "metadata": {},
   "outputs": [],
   "source": [
    "cr.Married = cr.Married.fillna('Yes')"
   ]
  },
  {
   "cell_type": "code",
   "execution_count": 13,
   "id": "74ac8667",
   "metadata": {},
   "outputs": [
    {
     "data": {
      "text/plain": [
       "Dependents\n",
       "0.0    545\n",
       "1.0    160\n",
       "2.0    160\n",
       "4.0     90\n",
       "3.0      1\n",
       "Name: count, dtype: int64"
      ]
     },
     "execution_count": 13,
     "metadata": {},
     "output_type": "execute_result"
    }
   ],
   "source": [
    "cr.Dependents.value_counts()"
   ]
  },
  {
   "cell_type": "code",
   "execution_count": 14,
   "id": "f3adf074",
   "metadata": {},
   "outputs": [],
   "source": [
    "cr.Dependents = cr.Dependents.fillna(0.0)"
   ]
  },
  {
   "cell_type": "code",
   "execution_count": 15,
   "id": "5b5af43f",
   "metadata": {},
   "outputs": [
    {
     "data": {
      "text/plain": [
       "Self_Employed\n",
       "No     807\n",
       "Yes    119\n",
       "Name: count, dtype: int64"
      ]
     },
     "execution_count": 15,
     "metadata": {},
     "output_type": "execute_result"
    }
   ],
   "source": [
    "cr.Self_Employed.value_counts()"
   ]
  },
  {
   "cell_type": "code",
   "execution_count": 16,
   "id": "a7232769",
   "metadata": {},
   "outputs": [],
   "source": [
    "cr.Self_Employed = cr.Self_Employed.fillna('No')"
   ]
  },
  {
   "cell_type": "code",
   "execution_count": 17,
   "id": "ebd81548",
   "metadata": {},
   "outputs": [
    {
     "data": {
      "text/plain": [
       "LoanAmount\n",
       "120.0    29\n",
       "110.0    27\n",
       "100.0    24\n",
       "187.0    21\n",
       "150.0    19\n",
       "         ..\n",
       "218.0     1\n",
       "62.0      1\n",
       "53.0      1\n",
       "242.0     1\n",
       "197.0     1\n",
       "Name: count, Length: 232, dtype: int64"
      ]
     },
     "execution_count": 17,
     "metadata": {},
     "output_type": "execute_result"
    }
   ],
   "source": [
    "cr.LoanAmount.value_counts()"
   ]
  },
  {
   "cell_type": "code",
   "execution_count": 18,
   "id": "3fb55f7d",
   "metadata": {},
   "outputs": [],
   "source": [
    "cr.LoanAmount = cr.LoanAmount.fillna(cr.LoanAmount.mean())"
   ]
  },
  {
   "cell_type": "code",
   "execution_count": 19,
   "id": "f8c37ba8",
   "metadata": {},
   "outputs": [
    {
     "data": {
      "text/plain": [
       "Loan_Amount_Term\n",
       "360.0    823\n",
       "180.0     66\n",
       "480.0     23\n",
       "300.0     20\n",
       "240.0      8\n",
       "84.0       7\n",
       "120.0      4\n",
       "60.0       3\n",
       "36.0       3\n",
       "12.0       2\n",
       "350.0      1\n",
       "6.0        1\n",
       "Name: count, dtype: int64"
      ]
     },
     "execution_count": 19,
     "metadata": {},
     "output_type": "execute_result"
    }
   ],
   "source": [
    "cr.Loan_Amount_Term.value_counts()"
   ]
  },
  {
   "cell_type": "code",
   "execution_count": 20,
   "id": "44efb709",
   "metadata": {},
   "outputs": [],
   "source": [
    "cr.Loan_Amount_Term = cr.Loan_Amount_Term.fillna(cr.Loan_Amount_Term.mean())"
   ]
  },
  {
   "cell_type": "code",
   "execution_count": 21,
   "id": "b2509d89",
   "metadata": {},
   "outputs": [
    {
     "data": {
      "text/plain": [
       "Credit_History\n",
       "1.0    754\n",
       "0.0    148\n",
       "Name: count, dtype: int64"
      ]
     },
     "execution_count": 21,
     "metadata": {},
     "output_type": "execute_result"
    }
   ],
   "source": [
    "cr.Credit_History.value_counts()"
   ]
  },
  {
   "cell_type": "code",
   "execution_count": 22,
   "id": "c66cec6a",
   "metadata": {},
   "outputs": [],
   "source": [
    "cr.Credit_History = cr.Credit_History.fillna(0.0)"
   ]
  },
  {
   "cell_type": "code",
   "execution_count": 23,
   "id": "f8474f3b",
   "metadata": {},
   "outputs": [
    {
     "data": {
      "text/plain": [
       "Gender               0\n",
       "Married              0\n",
       "Dependents           0\n",
       "Education            0\n",
       "Self_Employed        0\n",
       "ApplicantIncome      0\n",
       "CoapplicantIncome    0\n",
       "LoanAmount           0\n",
       "Loan_Amount_Term     0\n",
       "Credit_History       0\n",
       "Property_Area        0\n",
       "Loan_Status          0\n",
       "dtype: int64"
      ]
     },
     "execution_count": 23,
     "metadata": {},
     "output_type": "execute_result"
    }
   ],
   "source": [
    "cr.isnull().sum()"
   ]
  },
  {
   "cell_type": "code",
   "execution_count": 24,
   "id": "bbf86a5a",
   "metadata": {
    "scrolled": true
   },
   "outputs": [
    {
     "name": "stdout",
     "output_type": "stream",
     "text": [
      "<class 'pandas.core.frame.DataFrame'>\n",
      "RangeIndex: 981 entries, 0 to 980\n",
      "Data columns (total 12 columns):\n",
      " #   Column             Non-Null Count  Dtype  \n",
      "---  ------             --------------  -----  \n",
      " 0   Gender             981 non-null    object \n",
      " 1   Married            981 non-null    object \n",
      " 2   Dependents         981 non-null    float64\n",
      " 3   Education          981 non-null    object \n",
      " 4   Self_Employed      981 non-null    object \n",
      " 5   ApplicantIncome    981 non-null    int64  \n",
      " 6   CoapplicantIncome  981 non-null    float64\n",
      " 7   LoanAmount         981 non-null    float64\n",
      " 8   Loan_Amount_Term   981 non-null    float64\n",
      " 9   Credit_History     981 non-null    float64\n",
      " 10  Property_Area      981 non-null    object \n",
      " 11  Loan_Status        981 non-null    object \n",
      "dtypes: float64(5), int64(1), object(6)\n",
      "memory usage: 92.1+ KB\n"
     ]
    }
   ],
   "source": [
    "cr.info()"
   ]
  },
  {
   "cell_type": "code",
   "execution_count": 25,
   "id": "ee9abf44",
   "metadata": {},
   "outputs": [],
   "source": [
    "from sklearn.preprocessing import LabelEncoder"
   ]
  },
  {
   "cell_type": "code",
   "execution_count": 26,
   "id": "af9d8346",
   "metadata": {},
   "outputs": [],
   "source": [
    "le = LabelEncoder()"
   ]
  },
  {
   "cell_type": "code",
   "execution_count": 27,
   "id": "d7a4580c",
   "metadata": {},
   "outputs": [],
   "source": [
    "cr[cr.select_dtypes(include=['object']).columns] = cr[cr.select_dtypes(include=['object']).columns].apply(le.fit_transform)"
   ]
  },
  {
   "cell_type": "code",
   "execution_count": 28,
   "id": "fb57b41d",
   "metadata": {},
   "outputs": [
    {
     "name": "stdout",
     "output_type": "stream",
     "text": [
      "<class 'pandas.core.frame.DataFrame'>\n",
      "RangeIndex: 981 entries, 0 to 980\n",
      "Data columns (total 12 columns):\n",
      " #   Column             Non-Null Count  Dtype  \n",
      "---  ------             --------------  -----  \n",
      " 0   Gender             981 non-null    int32  \n",
      " 1   Married            981 non-null    int32  \n",
      " 2   Dependents         981 non-null    float64\n",
      " 3   Education          981 non-null    int32  \n",
      " 4   Self_Employed      981 non-null    int32  \n",
      " 5   ApplicantIncome    981 non-null    int64  \n",
      " 6   CoapplicantIncome  981 non-null    float64\n",
      " 7   LoanAmount         981 non-null    float64\n",
      " 8   Loan_Amount_Term   981 non-null    float64\n",
      " 9   Credit_History     981 non-null    float64\n",
      " 10  Property_Area      981 non-null    int32  \n",
      " 11  Loan_Status        981 non-null    int32  \n",
      "dtypes: float64(5), int32(6), int64(1)\n",
      "memory usage: 69.1 KB\n"
     ]
    }
   ],
   "source": [
    "cr.info()"
   ]
  },
  {
   "cell_type": "code",
   "execution_count": 29,
   "id": "52bd37e4",
   "metadata": {},
   "outputs": [],
   "source": [
    "from sklearn.model_selection import train_test_split"
   ]
  },
  {
   "cell_type": "code",
   "execution_count": 30,
   "id": "7b84085b",
   "metadata": {},
   "outputs": [],
   "source": [
    "cr_train, cr_test = train_test_split(cr, test_size=0.2)"
   ]
  },
  {
   "cell_type": "code",
   "execution_count": 31,
   "id": "5e7d8705",
   "metadata": {},
   "outputs": [],
   "source": [
    "cr_train_y = cr_train.iloc[:,-1]\n",
    "cr_test_y = cr_test.iloc[:,-1]"
   ]
  },
  {
   "cell_type": "code",
   "execution_count": 32,
   "id": "a0105622",
   "metadata": {},
   "outputs": [],
   "source": [
    "cr_train_x = cr_train.iloc[:,:-1]\n",
    "cr_test_x = cr_test.iloc[:,:-1]"
   ]
  },
  {
   "cell_type": "code",
   "execution_count": 33,
   "id": "3ced585a",
   "metadata": {},
   "outputs": [
    {
     "data": {
      "text/plain": [
       "503    0\n",
       "645    1\n",
       "796    1\n",
       "903    1\n",
       "845    1\n",
       "      ..\n",
       "446    1\n",
       "760    1\n",
       "400    0\n",
       "878    1\n",
       "778    1\n",
       "Name: Loan_Status, Length: 784, dtype: int32"
      ]
     },
     "execution_count": 33,
     "metadata": {},
     "output_type": "execute_result"
    }
   ],
   "source": [
    "cr_train_y"
   ]
  },
  {
   "cell_type": "code",
   "execution_count": 34,
   "id": "1532c58b",
   "metadata": {},
   "outputs": [
    {
     "data": {
      "text/html": [
       "<div>\n",
       "<style scoped>\n",
       "    .dataframe tbody tr th:only-of-type {\n",
       "        vertical-align: middle;\n",
       "    }\n",
       "\n",
       "    .dataframe tbody tr th {\n",
       "        vertical-align: top;\n",
       "    }\n",
       "\n",
       "    .dataframe thead th {\n",
       "        text-align: right;\n",
       "    }\n",
       "</style>\n",
       "<table border=\"1\" class=\"dataframe\">\n",
       "  <thead>\n",
       "    <tr style=\"text-align: right;\">\n",
       "      <th></th>\n",
       "      <th>Gender</th>\n",
       "      <th>Married</th>\n",
       "      <th>Dependents</th>\n",
       "      <th>Education</th>\n",
       "      <th>Self_Employed</th>\n",
       "      <th>ApplicantIncome</th>\n",
       "      <th>CoapplicantIncome</th>\n",
       "      <th>LoanAmount</th>\n",
       "      <th>Loan_Amount_Term</th>\n",
       "      <th>Credit_History</th>\n",
       "      <th>Property_Area</th>\n",
       "    </tr>\n",
       "  </thead>\n",
       "  <tbody>\n",
       "    <tr>\n",
       "      <th>503</th>\n",
       "      <td>1</td>\n",
       "      <td>1</td>\n",
       "      <td>1.0</td>\n",
       "      <td>1</td>\n",
       "      <td>0</td>\n",
       "      <td>4050</td>\n",
       "      <td>5302.0</td>\n",
       "      <td>138.00000</td>\n",
       "      <td>360.0</td>\n",
       "      <td>0.0</td>\n",
       "      <td>0</td>\n",
       "    </tr>\n",
       "    <tr>\n",
       "      <th>645</th>\n",
       "      <td>1</td>\n",
       "      <td>1</td>\n",
       "      <td>2.0</td>\n",
       "      <td>0</td>\n",
       "      <td>0</td>\n",
       "      <td>6250</td>\n",
       "      <td>820.0</td>\n",
       "      <td>192.00000</td>\n",
       "      <td>360.0</td>\n",
       "      <td>1.0</td>\n",
       "      <td>2</td>\n",
       "    </tr>\n",
       "    <tr>\n",
       "      <th>796</th>\n",
       "      <td>1</td>\n",
       "      <td>1</td>\n",
       "      <td>2.0</td>\n",
       "      <td>0</td>\n",
       "      <td>0</td>\n",
       "      <td>4358</td>\n",
       "      <td>0.0</td>\n",
       "      <td>110.00000</td>\n",
       "      <td>360.0</td>\n",
       "      <td>1.0</td>\n",
       "      <td>2</td>\n",
       "    </tr>\n",
       "    <tr>\n",
       "      <th>903</th>\n",
       "      <td>1</td>\n",
       "      <td>1</td>\n",
       "      <td>1.0</td>\n",
       "      <td>0</td>\n",
       "      <td>0</td>\n",
       "      <td>8333</td>\n",
       "      <td>4000.0</td>\n",
       "      <td>142.51153</td>\n",
       "      <td>360.0</td>\n",
       "      <td>1.0</td>\n",
       "      <td>2</td>\n",
       "    </tr>\n",
       "    <tr>\n",
       "      <th>845</th>\n",
       "      <td>1</td>\n",
       "      <td>0</td>\n",
       "      <td>0.0</td>\n",
       "      <td>0</td>\n",
       "      <td>1</td>\n",
       "      <td>2860</td>\n",
       "      <td>2988.0</td>\n",
       "      <td>138.00000</td>\n",
       "      <td>360.0</td>\n",
       "      <td>1.0</td>\n",
       "      <td>2</td>\n",
       "    </tr>\n",
       "    <tr>\n",
       "      <th>...</th>\n",
       "      <td>...</td>\n",
       "      <td>...</td>\n",
       "      <td>...</td>\n",
       "      <td>...</td>\n",
       "      <td>...</td>\n",
       "      <td>...</td>\n",
       "      <td>...</td>\n",
       "      <td>...</td>\n",
       "      <td>...</td>\n",
       "      <td>...</td>\n",
       "      <td>...</td>\n",
       "    </tr>\n",
       "    <tr>\n",
       "      <th>446</th>\n",
       "      <td>1</td>\n",
       "      <td>1</td>\n",
       "      <td>2.0</td>\n",
       "      <td>1</td>\n",
       "      <td>0</td>\n",
       "      <td>4652</td>\n",
       "      <td>0.0</td>\n",
       "      <td>110.00000</td>\n",
       "      <td>360.0</td>\n",
       "      <td>1.0</td>\n",
       "      <td>0</td>\n",
       "    </tr>\n",
       "    <tr>\n",
       "      <th>760</th>\n",
       "      <td>1</td>\n",
       "      <td>0</td>\n",
       "      <td>0.0</td>\n",
       "      <td>1</td>\n",
       "      <td>0</td>\n",
       "      <td>3276</td>\n",
       "      <td>0.0</td>\n",
       "      <td>90.00000</td>\n",
       "      <td>360.0</td>\n",
       "      <td>1.0</td>\n",
       "      <td>1</td>\n",
       "    </tr>\n",
       "    <tr>\n",
       "      <th>400</th>\n",
       "      <td>1</td>\n",
       "      <td>1</td>\n",
       "      <td>2.0</td>\n",
       "      <td>1</td>\n",
       "      <td>0</td>\n",
       "      <td>2889</td>\n",
       "      <td>0.0</td>\n",
       "      <td>45.00000</td>\n",
       "      <td>180.0</td>\n",
       "      <td>0.0</td>\n",
       "      <td>2</td>\n",
       "    </tr>\n",
       "    <tr>\n",
       "      <th>878</th>\n",
       "      <td>1</td>\n",
       "      <td>1</td>\n",
       "      <td>2.0</td>\n",
       "      <td>0</td>\n",
       "      <td>0</td>\n",
       "      <td>2995</td>\n",
       "      <td>1120.0</td>\n",
       "      <td>184.00000</td>\n",
       "      <td>360.0</td>\n",
       "      <td>1.0</td>\n",
       "      <td>0</td>\n",
       "    </tr>\n",
       "    <tr>\n",
       "      <th>778</th>\n",
       "      <td>1</td>\n",
       "      <td>0</td>\n",
       "      <td>1.0</td>\n",
       "      <td>0</td>\n",
       "      <td>0</td>\n",
       "      <td>3180</td>\n",
       "      <td>2370.0</td>\n",
       "      <td>80.00000</td>\n",
       "      <td>240.0</td>\n",
       "      <td>0.0</td>\n",
       "      <td>0</td>\n",
       "    </tr>\n",
       "  </tbody>\n",
       "</table>\n",
       "<p>784 rows × 11 columns</p>\n",
       "</div>"
      ],
      "text/plain": [
       "     Gender  Married  Dependents  Education  Self_Employed  ApplicantIncome  \\\n",
       "503       1        1         1.0          1              0             4050   \n",
       "645       1        1         2.0          0              0             6250   \n",
       "796       1        1         2.0          0              0             4358   \n",
       "903       1        1         1.0          0              0             8333   \n",
       "845       1        0         0.0          0              1             2860   \n",
       "..      ...      ...         ...        ...            ...              ...   \n",
       "446       1        1         2.0          1              0             4652   \n",
       "760       1        0         0.0          1              0             3276   \n",
       "400       1        1         2.0          1              0             2889   \n",
       "878       1        1         2.0          0              0             2995   \n",
       "778       1        0         1.0          0              0             3180   \n",
       "\n",
       "     CoapplicantIncome  LoanAmount  Loan_Amount_Term  Credit_History  \\\n",
       "503             5302.0   138.00000             360.0             0.0   \n",
       "645              820.0   192.00000             360.0             1.0   \n",
       "796                0.0   110.00000             360.0             1.0   \n",
       "903             4000.0   142.51153             360.0             1.0   \n",
       "845             2988.0   138.00000             360.0             1.0   \n",
       "..                 ...         ...               ...             ...   \n",
       "446                0.0   110.00000             360.0             1.0   \n",
       "760                0.0    90.00000             360.0             1.0   \n",
       "400                0.0    45.00000             180.0             0.0   \n",
       "878             1120.0   184.00000             360.0             1.0   \n",
       "778             2370.0    80.00000             240.0             0.0   \n",
       "\n",
       "     Property_Area  \n",
       "503              0  \n",
       "645              2  \n",
       "796              2  \n",
       "903              2  \n",
       "845              2  \n",
       "..             ...  \n",
       "446              0  \n",
       "760              1  \n",
       "400              2  \n",
       "878              0  \n",
       "778              0  \n",
       "\n",
       "[784 rows x 11 columns]"
      ]
     },
     "execution_count": 34,
     "metadata": {},
     "output_type": "execute_result"
    }
   ],
   "source": [
    "cr_train_x"
   ]
  },
  {
   "cell_type": "code",
   "execution_count": 35,
   "id": "7f986b78",
   "metadata": {},
   "outputs": [],
   "source": [
    "from sklearn.linear_model import LogisticRegression"
   ]
  },
  {
   "cell_type": "code",
   "execution_count": 36,
   "id": "ff58e77c",
   "metadata": {},
   "outputs": [],
   "source": [
    "logi_cr = LogisticRegression()"
   ]
  },
  {
   "cell_type": "code",
   "execution_count": 37,
   "id": "812220cf",
   "metadata": {},
   "outputs": [
    {
     "name": "stderr",
     "output_type": "stream",
     "text": [
      "D:\\Software\\Anaconda\\envs\\py310\\lib\\site-packages\\sklearn\\linear_model\\_logistic.py:460: ConvergenceWarning: lbfgs failed to converge (status=1):\n",
      "STOP: TOTAL NO. of ITERATIONS REACHED LIMIT.\n",
      "\n",
      "Increase the number of iterations (max_iter) or scale the data as shown in:\n",
      "    https://scikit-learn.org/stable/modules/preprocessing.html\n",
      "Please also refer to the documentation for alternative solver options:\n",
      "    https://scikit-learn.org/stable/modules/linear_model.html#logistic-regression\n",
      "  n_iter_i = _check_optimize_result(\n"
     ]
    },
    {
     "data": {
      "text/html": [
       "<style>#sk-container-id-1 {color: black;}#sk-container-id-1 pre{padding: 0;}#sk-container-id-1 div.sk-toggleable {background-color: white;}#sk-container-id-1 label.sk-toggleable__label {cursor: pointer;display: block;width: 100%;margin-bottom: 0;padding: 0.3em;box-sizing: border-box;text-align: center;}#sk-container-id-1 label.sk-toggleable__label-arrow:before {content: \"▸\";float: left;margin-right: 0.25em;color: #696969;}#sk-container-id-1 label.sk-toggleable__label-arrow:hover:before {color: black;}#sk-container-id-1 div.sk-estimator:hover label.sk-toggleable__label-arrow:before {color: black;}#sk-container-id-1 div.sk-toggleable__content {max-height: 0;max-width: 0;overflow: hidden;text-align: left;background-color: #f0f8ff;}#sk-container-id-1 div.sk-toggleable__content pre {margin: 0.2em;color: black;border-radius: 0.25em;background-color: #f0f8ff;}#sk-container-id-1 input.sk-toggleable__control:checked~div.sk-toggleable__content {max-height: 200px;max-width: 100%;overflow: auto;}#sk-container-id-1 input.sk-toggleable__control:checked~label.sk-toggleable__label-arrow:before {content: \"▾\";}#sk-container-id-1 div.sk-estimator input.sk-toggleable__control:checked~label.sk-toggleable__label {background-color: #d4ebff;}#sk-container-id-1 div.sk-label input.sk-toggleable__control:checked~label.sk-toggleable__label {background-color: #d4ebff;}#sk-container-id-1 input.sk-hidden--visually {border: 0;clip: rect(1px 1px 1px 1px);clip: rect(1px, 1px, 1px, 1px);height: 1px;margin: -1px;overflow: hidden;padding: 0;position: absolute;width: 1px;}#sk-container-id-1 div.sk-estimator {font-family: monospace;background-color: #f0f8ff;border: 1px dotted black;border-radius: 0.25em;box-sizing: border-box;margin-bottom: 0.5em;}#sk-container-id-1 div.sk-estimator:hover {background-color: #d4ebff;}#sk-container-id-1 div.sk-parallel-item::after {content: \"\";width: 100%;border-bottom: 1px solid gray;flex-grow: 1;}#sk-container-id-1 div.sk-label:hover label.sk-toggleable__label {background-color: #d4ebff;}#sk-container-id-1 div.sk-serial::before {content: \"\";position: absolute;border-left: 1px solid gray;box-sizing: border-box;top: 0;bottom: 0;left: 50%;z-index: 0;}#sk-container-id-1 div.sk-serial {display: flex;flex-direction: column;align-items: center;background-color: white;padding-right: 0.2em;padding-left: 0.2em;position: relative;}#sk-container-id-1 div.sk-item {position: relative;z-index: 1;}#sk-container-id-1 div.sk-parallel {display: flex;align-items: stretch;justify-content: center;background-color: white;position: relative;}#sk-container-id-1 div.sk-item::before, #sk-container-id-1 div.sk-parallel-item::before {content: \"\";position: absolute;border-left: 1px solid gray;box-sizing: border-box;top: 0;bottom: 0;left: 50%;z-index: -1;}#sk-container-id-1 div.sk-parallel-item {display: flex;flex-direction: column;z-index: 1;position: relative;background-color: white;}#sk-container-id-1 div.sk-parallel-item:first-child::after {align-self: flex-end;width: 50%;}#sk-container-id-1 div.sk-parallel-item:last-child::after {align-self: flex-start;width: 50%;}#sk-container-id-1 div.sk-parallel-item:only-child::after {width: 0;}#sk-container-id-1 div.sk-dashed-wrapped {border: 1px dashed gray;margin: 0 0.4em 0.5em 0.4em;box-sizing: border-box;padding-bottom: 0.4em;background-color: white;}#sk-container-id-1 div.sk-label label {font-family: monospace;font-weight: bold;display: inline-block;line-height: 1.2em;}#sk-container-id-1 div.sk-label-container {text-align: center;}#sk-container-id-1 div.sk-container {/* jupyter's `normalize.less` sets `[hidden] { display: none; }` but bootstrap.min.css set `[hidden] { display: none !important; }` so we also need the `!important` here to be able to override the default hidden behavior on the sphinx rendered scikit-learn.org. See: https://github.com/scikit-learn/scikit-learn/issues/21755 */display: inline-block !important;position: relative;}#sk-container-id-1 div.sk-text-repr-fallback {display: none;}</style><div id=\"sk-container-id-1\" class=\"sk-top-container\"><div class=\"sk-text-repr-fallback\"><pre>LogisticRegression()</pre><b>In a Jupyter environment, please rerun this cell to show the HTML representation or trust the notebook. <br />On GitHub, the HTML representation is unable to render, please try loading this page with nbviewer.org.</b></div><div class=\"sk-container\" hidden><div class=\"sk-item\"><div class=\"sk-estimator sk-toggleable\"><input class=\"sk-toggleable__control sk-hidden--visually\" id=\"sk-estimator-id-1\" type=\"checkbox\" checked><label for=\"sk-estimator-id-1\" class=\"sk-toggleable__label sk-toggleable__label-arrow\">LogisticRegression</label><div class=\"sk-toggleable__content\"><pre>LogisticRegression()</pre></div></div></div></div></div>"
      ],
      "text/plain": [
       "LogisticRegression()"
      ]
     },
     "execution_count": 37,
     "metadata": {},
     "output_type": "execute_result"
    }
   ],
   "source": [
    "logi_cr.fit(cr_train_x, cr_train_y)"
   ]
  },
  {
   "cell_type": "code",
   "execution_count": 38,
   "id": "2a056b79",
   "metadata": {},
   "outputs": [
    {
     "data": {
      "text/plain": [
       "array([0, 1, 1, 0, 0, 0, 1, 0, 1, 1, 0, 1, 0, 1, 1, 1, 1, 1, 0, 1, 1, 0,\n",
       "       1, 1, 1, 1, 1, 1, 1, 1, 1, 1, 1, 1, 0, 1, 1, 1, 1, 1, 1, 1, 1, 0,\n",
       "       1, 1, 1, 1, 1, 1, 1, 1, 1, 1, 1, 1, 1, 1, 1, 0, 1, 1, 1, 1, 1, 1,\n",
       "       1, 1, 1, 1, 0, 1, 1, 1, 1, 1, 0, 1, 1, 1, 1, 1, 0, 1, 1, 1, 1, 0,\n",
       "       1, 1, 0, 1, 1, 1, 1, 1, 1, 1, 1, 0, 1, 1, 0, 1, 0, 1, 0, 0, 1, 0,\n",
       "       1, 1, 1, 0, 1, 1, 1, 1, 1, 1, 0, 1, 1, 1, 1, 1, 1, 0, 1, 1, 1, 1,\n",
       "       1, 0, 1, 1, 0, 1, 1, 1, 1, 0, 1, 1, 0, 1, 0, 1, 1, 1, 1, 1, 1, 1,\n",
       "       1, 1, 1, 1, 1, 1, 0, 1, 1, 1, 1, 0, 0, 0, 1, 1, 0, 1, 0, 0, 1, 1,\n",
       "       0, 0, 1, 1, 1, 1, 1, 0, 1, 1, 1, 1, 1, 1, 1, 1, 0, 0, 0, 1, 1])"
      ]
     },
     "execution_count": 38,
     "metadata": {},
     "output_type": "execute_result"
    }
   ],
   "source": [
    "pred = logi_cr.predict(cr_test_x)\n",
    "pred"
   ]
  },
  {
   "cell_type": "code",
   "execution_count": 39,
   "id": "81d0f23e",
   "metadata": {},
   "outputs": [],
   "source": [
    "from sklearn.metrics import confusion_matrix"
   ]
  },
  {
   "cell_type": "code",
   "execution_count": 40,
   "id": "cd1dba40",
   "metadata": {},
   "outputs": [],
   "source": [
    "cr_tab = confusion_matrix(cr_test_y, pred)"
   ]
  },
  {
   "cell_type": "code",
   "execution_count": 41,
   "id": "d653a61c",
   "metadata": {},
   "outputs": [
    {
     "data": {
      "text/plain": [
       "array([[ 28,  30],\n",
       "       [ 16, 123]], dtype=int64)"
      ]
     },
     "execution_count": 41,
     "metadata": {},
     "output_type": "execute_result"
    }
   ],
   "source": [
    "cr_tab"
   ]
  },
  {
   "cell_type": "code",
   "execution_count": 42,
   "id": "fb067cd6",
   "metadata": {},
   "outputs": [],
   "source": [
    "from sklearn.metrics import accuracy_score"
   ]
  },
  {
   "cell_type": "code",
   "execution_count": 43,
   "id": "9bef28de",
   "metadata": {},
   "outputs": [
    {
     "data": {
      "text/plain": [
       "76.6497461928934"
      ]
     },
     "execution_count": 43,
     "metadata": {},
     "output_type": "execute_result"
    }
   ],
   "source": [
    "accuracy_score(cr_test_y, pred) * 100"
   ]
  },
  {
   "cell_type": "code",
   "execution_count": 44,
   "id": "2eb5fe27",
   "metadata": {},
   "outputs": [],
   "source": [
    "from sklearn.metrics import recall_score"
   ]
  },
  {
   "cell_type": "code",
   "execution_count": 45,
   "id": "12d5ae1b",
   "metadata": {},
   "outputs": [
    {
     "data": {
      "text/plain": [
       "88.48920863309353"
      ]
     },
     "execution_count": 45,
     "metadata": {},
     "output_type": "execute_result"
    }
   ],
   "source": [
    "recall_score(cr_test_y, pred) * 100"
   ]
  },
  {
   "cell_type": "code",
   "execution_count": 46,
   "id": "3191401f",
   "metadata": {},
   "outputs": [],
   "source": [
    "from sklearn.metrics import precision_score"
   ]
  },
  {
   "cell_type": "code",
   "execution_count": 47,
   "id": "ed7b51d9",
   "metadata": {},
   "outputs": [
    {
     "data": {
      "text/plain": [
       "80.3921568627451"
      ]
     },
     "execution_count": 47,
     "metadata": {},
     "output_type": "execute_result"
    }
   ],
   "source": [
    "precision_score(cr_test_y, pred) * 100"
   ]
  },
  {
   "cell_type": "code",
   "execution_count": 48,
   "id": "f75159c2",
   "metadata": {},
   "outputs": [],
   "source": [
    "from sklearn.metrics import f1_score"
   ]
  },
  {
   "cell_type": "code",
   "execution_count": 49,
   "id": "4da2b681",
   "metadata": {},
   "outputs": [
    {
     "data": {
      "text/plain": [
       "84.24657534246576"
      ]
     },
     "execution_count": 49,
     "metadata": {},
     "output_type": "execute_result"
    }
   ],
   "source": [
    "f1_score(cr_test_y, pred) * 100"
   ]
  },
  {
   "cell_type": "code",
   "execution_count": 50,
   "id": "fe432d85",
   "metadata": {},
   "outputs": [],
   "source": [
    "from sklearn.metrics import roc_auc_score\n",
    "from sklearn.metrics import roc_curve"
   ]
  },
  {
   "cell_type": "code",
   "execution_count": 51,
   "id": "e5a51b1f",
   "metadata": {},
   "outputs": [
    {
     "data": {
      "text/plain": [
       "array([[0.60060828, 0.39939172],\n",
       "       [0.48389966, 0.51610034],\n",
       "       [0.14945573, 0.85054427],\n",
       "       [0.71543889, 0.28456111],\n",
       "       [0.79544971, 0.20455029],\n",
       "       [0.5395746 , 0.4604254 ],\n",
       "       [0.11569209, 0.88430791],\n",
       "       [0.60495562, 0.39504438],\n",
       "       [0.17822134, 0.82177866],\n",
       "       [0.08670537, 0.91329463],\n",
       "       [0.71538903, 0.28461097],\n",
       "       [0.12612441, 0.87387559],\n",
       "       [0.64085111, 0.35914889],\n",
       "       [0.28887845, 0.71112155],\n",
       "       [0.4800043 , 0.5199957 ],\n",
       "       [0.137185  , 0.862815  ],\n",
       "       [0.26882273, 0.73117727],\n",
       "       [0.45280934, 0.54719066],\n",
       "       [0.73955855, 0.26044145],\n",
       "       [0.41928573, 0.58071427],\n",
       "       [0.11315906, 0.88684094],\n",
       "       [0.80622407, 0.19377593],\n",
       "       [0.0994478 , 0.9005522 ],\n",
       "       [0.39488624, 0.60511376],\n",
       "       [0.03414933, 0.96585067],\n",
       "       [0.08538536, 0.91461464],\n",
       "       [0.12861511, 0.87138489],\n",
       "       [0.25218425, 0.74781575],\n",
       "       [0.08180535, 0.91819465],\n",
       "       [0.49783661, 0.50216339],\n",
       "       [0.08347194, 0.91652806],\n",
       "       [0.07377012, 0.92622988],\n",
       "       [0.14767768, 0.85232232],\n",
       "       [0.06422961, 0.93577039],\n",
       "       [0.56202064, 0.43797936],\n",
       "       [0.10648698, 0.89351302],\n",
       "       [0.14825201, 0.85174799],\n",
       "       [0.19077352, 0.80922648],\n",
       "       [0.09341346, 0.90658654],\n",
       "       [0.24246184, 0.75753816],\n",
       "       [0.30941144, 0.69058856],\n",
       "       [0.23369479, 0.76630521],\n",
       "       [0.1153128 , 0.8846872 ],\n",
       "       [0.59792708, 0.40207292],\n",
       "       [0.17794201, 0.82205799],\n",
       "       [0.11972679, 0.88027321],\n",
       "       [0.27032169, 0.72967831],\n",
       "       [0.43575416, 0.56424584],\n",
       "       [0.30016099, 0.69983901],\n",
       "       [0.19712325, 0.80287675],\n",
       "       [0.08557621, 0.91442379],\n",
       "       [0.13225447, 0.86774553],\n",
       "       [0.08499416, 0.91500584],\n",
       "       [0.10264229, 0.89735771],\n",
       "       [0.25840768, 0.74159232],\n",
       "       [0.11577939, 0.88422061],\n",
       "       [0.18639145, 0.81360855],\n",
       "       [0.19597252, 0.80402748],\n",
       "       [0.16441205, 0.83558795],\n",
       "       [0.8532995 , 0.1467005 ],\n",
       "       [0.09450737, 0.90549263],\n",
       "       [0.19810857, 0.80189143],\n",
       "       [0.2248857 , 0.7751143 ],\n",
       "       [0.15873218, 0.84126782],\n",
       "       [0.16512812, 0.83487188],\n",
       "       [0.24237943, 0.75762057],\n",
       "       [0.28856726, 0.71143274],\n",
       "       [0.06729084, 0.93270916],\n",
       "       [0.3040781 , 0.6959219 ],\n",
       "       [0.11782126, 0.88217874],\n",
       "       [0.72055643, 0.27944357],\n",
       "       [0.22231067, 0.77768933],\n",
       "       [0.24725514, 0.75274486],\n",
       "       [0.09422292, 0.90577708],\n",
       "       [0.10732421, 0.89267579],\n",
       "       [0.10145077, 0.89854923],\n",
       "       [0.77348743, 0.22651257],\n",
       "       [0.07581264, 0.92418736],\n",
       "       [0.13277739, 0.86722261],\n",
       "       [0.12986102, 0.87013898],\n",
       "       [0.1776023 , 0.8223977 ],\n",
       "       [0.18127886, 0.81872114],\n",
       "       [0.50382087, 0.49617913],\n",
       "       [0.29301834, 0.70698166],\n",
       "       [0.16343426, 0.83656574],\n",
       "       [0.28163621, 0.71836379],\n",
       "       [0.13729736, 0.86270264],\n",
       "       [0.69608709, 0.30391291],\n",
       "       [0.18206486, 0.81793514],\n",
       "       [0.14724485, 0.85275515],\n",
       "       [0.79708788, 0.20291212],\n",
       "       [0.18094113, 0.81905887],\n",
       "       [0.24851106, 0.75148894],\n",
       "       [0.25106412, 0.74893588],\n",
       "       [0.12747287, 0.87252713],\n",
       "       [0.19863734, 0.80136266],\n",
       "       [0.33360688, 0.66639312],\n",
       "       [0.07890347, 0.92109653],\n",
       "       [0.06767695, 0.93232305],\n",
       "       [0.80631916, 0.19368084],\n",
       "       [0.10529809, 0.89470191],\n",
       "       [0.19706344, 0.80293656],\n",
       "       [0.65245283, 0.34754717],\n",
       "       [0.10872862, 0.89127138],\n",
       "       [0.73428356, 0.26571644],\n",
       "       [0.1354169 , 0.8645831 ],\n",
       "       [0.66968719, 0.33031281],\n",
       "       [0.76728903, 0.23271097],\n",
       "       [0.2334466 , 0.7665534 ],\n",
       "       [0.59027274, 0.40972726],\n",
       "       [0.25434782, 0.74565218],\n",
       "       [0.12912865, 0.87087135],\n",
       "       [0.10759294, 0.89240706],\n",
       "       [0.68164067, 0.31835933],\n",
       "       [0.29226013, 0.70773987],\n",
       "       [0.18616076, 0.81383924],\n",
       "       [0.2048985 , 0.7951015 ],\n",
       "       [0.27851799, 0.72148201],\n",
       "       [0.30038616, 0.69961384],\n",
       "       [0.38547564, 0.61452436],\n",
       "       [0.7836366 , 0.2163634 ],\n",
       "       [0.25839122, 0.74160878],\n",
       "       [0.08713111, 0.91286889],\n",
       "       [0.21062927, 0.78937073],\n",
       "       [0.24182829, 0.75817171],\n",
       "       [0.16497368, 0.83502632],\n",
       "       [0.36498018, 0.63501982],\n",
       "       [0.81928456, 0.18071544],\n",
       "       [0.05923262, 0.94076738],\n",
       "       [0.06455364, 0.93544636],\n",
       "       [0.19223754, 0.80776246],\n",
       "       [0.07735174, 0.92264826],\n",
       "       [0.07642895, 0.92357105],\n",
       "       [0.81865179, 0.18134821],\n",
       "       [0.06680175, 0.93319825],\n",
       "       [0.10329049, 0.89670951],\n",
       "       [0.79023809, 0.20976191],\n",
       "       [0.11141262, 0.88858738],\n",
       "       [0.15202562, 0.84797438],\n",
       "       [0.2977921 , 0.7022079 ],\n",
       "       [0.42344271, 0.57655729],\n",
       "       [0.7050299 , 0.2949701 ],\n",
       "       [0.29343258, 0.70656742],\n",
       "       [0.18258983, 0.81741017],\n",
       "       [0.79143725, 0.20856275],\n",
       "       [0.10744828, 0.89255172],\n",
       "       [0.60349527, 0.39650473],\n",
       "       [0.09807283, 0.90192717],\n",
       "       [0.4721869 , 0.5278131 ],\n",
       "       [0.22500942, 0.77499058],\n",
       "       [0.12042775, 0.87957225],\n",
       "       [0.12967689, 0.87032311],\n",
       "       [0.14740849, 0.85259151],\n",
       "       [0.13882362, 0.86117638],\n",
       "       [0.0557845 , 0.9442155 ],\n",
       "       [0.08786085, 0.91213915],\n",
       "       [0.10685325, 0.89314675],\n",
       "       [0.19974359, 0.80025641],\n",
       "       [0.21286739, 0.78713261],\n",
       "       [0.22794112, 0.77205888],\n",
       "       [0.64187873, 0.35812127],\n",
       "       [0.23758818, 0.76241182],\n",
       "       [0.17019276, 0.82980724],\n",
       "       [0.11390838, 0.88609162],\n",
       "       [0.07323855, 0.92676145],\n",
       "       [0.685477  , 0.314523  ],\n",
       "       [0.70391326, 0.29608674],\n",
       "       [0.6083439 , 0.3916561 ],\n",
       "       [0.11776405, 0.88223595],\n",
       "       [0.11520116, 0.88479884],\n",
       "       [0.55643744, 0.44356256],\n",
       "       [0.11719776, 0.88280224],\n",
       "       [0.6063222 , 0.3936778 ],\n",
       "       [0.67288316, 0.32711684],\n",
       "       [0.20661757, 0.79338243],\n",
       "       [0.22314608, 0.77685392],\n",
       "       [0.67916507, 0.32083493],\n",
       "       [0.68635876, 0.31364124],\n",
       "       [0.3715546 , 0.6284454 ],\n",
       "       [0.23368777, 0.76631223],\n",
       "       [0.31077555, 0.68922445],\n",
       "       [0.19808325, 0.80191675],\n",
       "       [0.2878243 , 0.7121757 ],\n",
       "       [0.5166054 , 0.4833946 ],\n",
       "       [0.26778176, 0.73221824],\n",
       "       [0.06959307, 0.93040693],\n",
       "       [0.13837013, 0.86162987],\n",
       "       [0.12618466, 0.87381534],\n",
       "       [0.18251046, 0.81748954],\n",
       "       [0.03907314, 0.96092686],\n",
       "       [0.11443899, 0.88556101],\n",
       "       [0.16247877, 0.83752123],\n",
       "       [0.78223829, 0.21776171],\n",
       "       [0.65175466, 0.34824534],\n",
       "       [0.50967745, 0.49032255],\n",
       "       [0.33314923, 0.66685077],\n",
       "       [0.06775687, 0.93224313]])"
      ]
     },
     "execution_count": 51,
     "metadata": {},
     "output_type": "execute_result"
    }
   ],
   "source": [
    "pred_proba = logi_cr.predict_proba(cr_test_x)\n",
    "pred_proba"
   ]
  },
  {
   "cell_type": "code",
   "execution_count": 52,
   "id": "fa4a5031",
   "metadata": {
    "scrolled": true
   },
   "outputs": [
    {
     "data": {
      "text/plain": [
       "1.0"
      ]
     },
     "execution_count": 52,
     "metadata": {},
     "output_type": "execute_result"
    }
   ],
   "source": [
    "0.79439839 + 0.20560161"
   ]
  },
  {
   "cell_type": "code",
   "execution_count": 53,
   "id": "8f357984",
   "metadata": {},
   "outputs": [
    {
     "data": {
      "text/plain": [
       "array([0, 1, 1, 0, 0, 0, 1, 0, 1, 1, 0, 1, 0, 1, 1, 1, 1, 1, 0, 1, 1, 0,\n",
       "       1, 1, 1, 1, 1, 1, 1, 1, 1, 1, 1, 1, 0, 1, 1, 1, 1, 1, 1, 1, 1, 0,\n",
       "       1, 1, 1, 1, 1, 1, 1, 1, 1, 1, 1, 1, 1, 1, 1, 0, 1, 1, 1, 1, 1, 1,\n",
       "       1, 1, 1, 1, 0, 1, 1, 1, 1, 1, 0, 1, 1, 1, 1, 1, 0, 1, 1, 1, 1, 0,\n",
       "       1, 1, 0, 1, 1, 1, 1, 1, 1, 1, 1, 0, 1, 1, 0, 1, 0, 1, 0, 0, 1, 0,\n",
       "       1, 1, 1, 0, 1, 1, 1, 1, 1, 1, 0, 1, 1, 1, 1, 1, 1, 0, 1, 1, 1, 1,\n",
       "       1, 0, 1, 1, 0, 1, 1, 1, 1, 0, 1, 1, 0, 1, 0, 1, 1, 1, 1, 1, 1, 1,\n",
       "       1, 1, 1, 1, 1, 1, 0, 1, 1, 1, 1, 0, 0, 0, 1, 1, 0, 1, 0, 0, 1, 1,\n",
       "       0, 0, 1, 1, 1, 1, 1, 0, 1, 1, 1, 1, 1, 1, 1, 1, 0, 0, 0, 1, 1])"
      ]
     },
     "execution_count": 53,
     "metadata": {},
     "output_type": "execute_result"
    }
   ],
   "source": [
    "pred_q = logi_cr.predict(cr_test_x)\n",
    "pred_q"
   ]
  },
  {
   "cell_type": "code",
   "execution_count": 54,
   "id": "4122bde8",
   "metadata": {},
   "outputs": [
    {
     "data": {
      "text/plain": [
       "68.38253535102952"
      ]
     },
     "execution_count": 54,
     "metadata": {},
     "output_type": "execute_result"
    }
   ],
   "source": [
    "roc_auc_score(cr_test_y, pred_q) * 100"
   ]
  },
  {
   "cell_type": "code",
   "execution_count": 55,
   "id": "b207ac4f",
   "metadata": {},
   "outputs": [
    {
     "data": {
      "text/plain": [
       "array([0.39939172, 0.51610034, 0.85054427, 0.28456111, 0.20455029,\n",
       "       0.4604254 , 0.88430791, 0.39504438, 0.82177866, 0.91329463,\n",
       "       0.28461097, 0.87387559, 0.35914889, 0.71112155, 0.5199957 ,\n",
       "       0.862815  , 0.73117727, 0.54719066, 0.26044145, 0.58071427,\n",
       "       0.88684094, 0.19377593, 0.9005522 , 0.60511376, 0.96585067,\n",
       "       0.91461464, 0.87138489, 0.74781575, 0.91819465, 0.50216339,\n",
       "       0.91652806, 0.92622988, 0.85232232, 0.93577039, 0.43797936,\n",
       "       0.89351302, 0.85174799, 0.80922648, 0.90658654, 0.75753816,\n",
       "       0.69058856, 0.76630521, 0.8846872 , 0.40207292, 0.82205799,\n",
       "       0.88027321, 0.72967831, 0.56424584, 0.69983901, 0.80287675,\n",
       "       0.91442379, 0.86774553, 0.91500584, 0.89735771, 0.74159232,\n",
       "       0.88422061, 0.81360855, 0.80402748, 0.83558795, 0.1467005 ,\n",
       "       0.90549263, 0.80189143, 0.7751143 , 0.84126782, 0.83487188,\n",
       "       0.75762057, 0.71143274, 0.93270916, 0.6959219 , 0.88217874,\n",
       "       0.27944357, 0.77768933, 0.75274486, 0.90577708, 0.89267579,\n",
       "       0.89854923, 0.22651257, 0.92418736, 0.86722261, 0.87013898,\n",
       "       0.8223977 , 0.81872114, 0.49617913, 0.70698166, 0.83656574,\n",
       "       0.71836379, 0.86270264, 0.30391291, 0.81793514, 0.85275515,\n",
       "       0.20291212, 0.81905887, 0.75148894, 0.74893588, 0.87252713,\n",
       "       0.80136266, 0.66639312, 0.92109653, 0.93232305, 0.19368084,\n",
       "       0.89470191, 0.80293656, 0.34754717, 0.89127138, 0.26571644,\n",
       "       0.8645831 , 0.33031281, 0.23271097, 0.7665534 , 0.40972726,\n",
       "       0.74565218, 0.87087135, 0.89240706, 0.31835933, 0.70773987,\n",
       "       0.81383924, 0.7951015 , 0.72148201, 0.69961384, 0.61452436,\n",
       "       0.2163634 , 0.74160878, 0.91286889, 0.78937073, 0.75817171,\n",
       "       0.83502632, 0.63501982, 0.18071544, 0.94076738, 0.93544636,\n",
       "       0.80776246, 0.92264826, 0.92357105, 0.18134821, 0.93319825,\n",
       "       0.89670951, 0.20976191, 0.88858738, 0.84797438, 0.7022079 ,\n",
       "       0.57655729, 0.2949701 , 0.70656742, 0.81741017, 0.20856275,\n",
       "       0.89255172, 0.39650473, 0.90192717, 0.5278131 , 0.77499058,\n",
       "       0.87957225, 0.87032311, 0.85259151, 0.86117638, 0.9442155 ,\n",
       "       0.91213915, 0.89314675, 0.80025641, 0.78713261, 0.77205888,\n",
       "       0.35812127, 0.76241182, 0.82980724, 0.88609162, 0.92676145,\n",
       "       0.314523  , 0.29608674, 0.3916561 , 0.88223595, 0.88479884,\n",
       "       0.44356256, 0.88280224, 0.3936778 , 0.32711684, 0.79338243,\n",
       "       0.77685392, 0.32083493, 0.31364124, 0.6284454 , 0.76631223,\n",
       "       0.68922445, 0.80191675, 0.7121757 , 0.4833946 , 0.73221824,\n",
       "       0.93040693, 0.86162987, 0.87381534, 0.81748954, 0.96092686,\n",
       "       0.88556101, 0.83752123, 0.21776171, 0.34824534, 0.49032255,\n",
       "       0.66685077, 0.93224313])"
      ]
     },
     "execution_count": 55,
     "metadata": {},
     "output_type": "execute_result"
    }
   ],
   "source": [
    "pred_proba[:,1]"
   ]
  },
  {
   "cell_type": "code",
   "execution_count": 56,
   "id": "baae744f",
   "metadata": {},
   "outputs": [],
   "source": [
    "fpr, tpr, ther = roc_curve(cr_test_y, pred_proba[:,1])"
   ]
  },
  {
   "cell_type": "code",
   "execution_count": 57,
   "id": "406e6664",
   "metadata": {},
   "outputs": [],
   "source": [
    "import matplotlib.pyplot as plt"
   ]
  },
  {
   "cell_type": "code",
   "execution_count": 58,
   "id": "512a71e8",
   "metadata": {},
   "outputs": [
    {
     "data": {
      "text/plain": [
       "[<matplotlib.lines.Line2D at 0x27ab0fe2230>]"
      ]
     },
     "execution_count": 58,
     "metadata": {},
     "output_type": "execute_result"
    },
    {
     "data": {
      "image/png": "[encoded data removed]",
      "text/plain": [
       "<Figure size 640x480 with 1 Axes>"
      ]
     },
     "metadata": {},
     "output_type": "display_data"
    }
   ],
   "source": [
    "plt.plot(fpr,tpr)"
   ]
  },
  {
   "cell_type": "code",
   "execution_count": 59,
   "id": "4f1a0eb3",
   "metadata": {},
   "outputs": [
    {
     "data": {
      "text/plain": [
       "Text(0.5, 0.5, 'AUROC score is 0.683825')"
      ]
     },
     "execution_count": 59,
     "metadata": {},
     "output_type": "execute_result"
    },
    {
     "data": {
      "image/png": "[encoded data removed]",
      "text/plain": [
       "<Figure size 640x480 with 1 Axes>"
      ]
     },
     "metadata": {},
     "output_type": "display_data"
    }
   ],
   "source": [
    "plt.plot(fpr,tpr,color='r')\n",
    "plt.xlabel('fpr')\n",
    "plt.ylabel('tpr')\n",
    "plt.title('AUROC curve on Credit Risk Data')\n",
    "plt.grid()\n",
    "plt.text(x=0.5,y=0.5, s= 'AUROC score is 0.683825')"
   ]
  },
  {
   "cell_type": "code",
   "execution_count": null,
   "id": "ce224e08",
   "metadata": {},
   "outputs": [],
   "source": []
  }
 ],
 "metadata": {
  "kernelspec": {
   "display_name": "Python 3 (ipykernel)",
   "language": "python",
   "name": "python3"
  },
  "language_info": {
   "codemirror_mode": {
    "name": "ipython",
    "version": 3
   },
   "file_extension": ".py",
   "mimetype": "text/x-python",
   "name": "python",
   "nbconvert_exporter": "python",
   "pygments_lexer": "ipython3",
   "version": "3.10.12"
  }
 },
 "nbformat": 4,
 "nbformat_minor": 5
}
